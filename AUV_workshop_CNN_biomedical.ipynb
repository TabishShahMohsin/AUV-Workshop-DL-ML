{
 "cells": [
  {
   "cell_type": "code",
   "execution_count": 2,
   "metadata": {
    "id": "j6F1H7EXvxS8"
   },
   "outputs": [
    {
     "name": "stdout",
     "output_type": "stream",
     "text": [
      "mkdir: /root: No such file or directory\n"
     ]
    },
    {
     "ename": "FileNotFoundError",
     "evalue": "[Errno 2] No such file or directory: '/root/.kaggle/kaggle.json'",
     "output_type": "error",
     "traceback": [
      "\u001b[0;31m---------------------------------------------------------------------------\u001b[0m",
      "\u001b[0;31mFileNotFoundError\u001b[0m                         Traceback (most recent call last)",
      "Cell \u001b[0;32mIn[2], line 10\u001b[0m\n\u001b[1;32m      4\u001b[0m \u001b[38;5;28;01mimport\u001b[39;00m \u001b[38;5;21;01mjson\u001b[39;00m\n\u001b[1;32m      5\u001b[0m token \u001b[38;5;241m=\u001b[39m {\n\u001b[1;32m      6\u001b[0m    \u001b[38;5;124m\"\u001b[39m\u001b[38;5;124musername\u001b[39m\u001b[38;5;124m\"\u001b[39m: \u001b[38;5;124m\"\u001b[39m\u001b[38;5;124mauvzhcet\u001b[39m\u001b[38;5;124m\"\u001b[39m,\n\u001b[1;32m      7\u001b[0m    \u001b[38;5;124m\"\u001b[39m\u001b[38;5;124mkey\u001b[39m\u001b[38;5;124m\"\u001b[39m: \u001b[38;5;124m\"\u001b[39m\u001b[38;5;124m3d59cbe6e491d2904ce4e1b0766d65d4\u001b[39m\u001b[38;5;124m\"\u001b[39m\n\u001b[1;32m      8\u001b[0m }\n\u001b[0;32m---> 10\u001b[0m \u001b[38;5;28;01mwith\u001b[39;00m \u001b[38;5;28;43mopen\u001b[39;49m\u001b[43m(\u001b[49m\u001b[38;5;124;43m'\u001b[39;49m\u001b[38;5;124;43m/root/.kaggle/kaggle.json\u001b[39;49m\u001b[38;5;124;43m'\u001b[39;49m\u001b[43m,\u001b[49m\u001b[43m \u001b[49m\u001b[38;5;124;43m'\u001b[39;49m\u001b[38;5;124;43mw\u001b[39;49m\u001b[38;5;124;43m'\u001b[39;49m\u001b[43m)\u001b[49m \u001b[38;5;28;01mas\u001b[39;00m config_file:\n\u001b[1;32m     11\u001b[0m    json\u001b[38;5;241m.\u001b[39mdump(token, config_file)\n\u001b[1;32m     12\u001b[0m get_ipython()\u001b[38;5;241m.\u001b[39msystem(\u001b[38;5;124m'\u001b[39m\u001b[38;5;124mchmod 600 /root/.kaggle/kaggle.json\u001b[39m\u001b[38;5;124m'\u001b[39m)\n",
      "File \u001b[0;32m~/.local/lib/python3.9/site-packages/IPython/core/interactiveshell.py:310\u001b[0m, in \u001b[0;36m_modified_open\u001b[0;34m(file, *args, **kwargs)\u001b[0m\n\u001b[1;32m    303\u001b[0m \u001b[38;5;28;01mif\u001b[39;00m file \u001b[38;5;129;01min\u001b[39;00m {\u001b[38;5;241m0\u001b[39m, \u001b[38;5;241m1\u001b[39m, \u001b[38;5;241m2\u001b[39m}:\n\u001b[1;32m    304\u001b[0m     \u001b[38;5;28;01mraise\u001b[39;00m \u001b[38;5;167;01mValueError\u001b[39;00m(\n\u001b[1;32m    305\u001b[0m         \u001b[38;5;124mf\u001b[39m\u001b[38;5;124m\"\u001b[39m\u001b[38;5;124mIPython won\u001b[39m\u001b[38;5;124m'\u001b[39m\u001b[38;5;124mt let you open fd=\u001b[39m\u001b[38;5;132;01m{\u001b[39;00mfile\u001b[38;5;132;01m}\u001b[39;00m\u001b[38;5;124m by default \u001b[39m\u001b[38;5;124m\"\u001b[39m\n\u001b[1;32m    306\u001b[0m         \u001b[38;5;124m\"\u001b[39m\u001b[38;5;124mas it is likely to crash IPython. If you know what you are doing, \u001b[39m\u001b[38;5;124m\"\u001b[39m\n\u001b[1;32m    307\u001b[0m         \u001b[38;5;124m\"\u001b[39m\u001b[38;5;124myou can use builtins\u001b[39m\u001b[38;5;124m'\u001b[39m\u001b[38;5;124m open.\u001b[39m\u001b[38;5;124m\"\u001b[39m\n\u001b[1;32m    308\u001b[0m     )\n\u001b[0;32m--> 310\u001b[0m \u001b[38;5;28;01mreturn\u001b[39;00m \u001b[43mio_open\u001b[49m\u001b[43m(\u001b[49m\u001b[43mfile\u001b[49m\u001b[43m,\u001b[49m\u001b[43m \u001b[49m\u001b[38;5;241;43m*\u001b[39;49m\u001b[43margs\u001b[49m\u001b[43m,\u001b[49m\u001b[43m \u001b[49m\u001b[38;5;241;43m*\u001b[39;49m\u001b[38;5;241;43m*\u001b[39;49m\u001b[43mkwargs\u001b[49m\u001b[43m)\u001b[49m\n",
      "\u001b[0;31mFileNotFoundError\u001b[0m: [Errno 2] No such file or directory: '/root/.kaggle/kaggle.json'"
     ]
    }
   ],
   "source": [
    "\n",
    "\n",
    " !pip install --upgrade -q kaggle\n",
    "\n",
    "!mkdir /root/.kaggle\n",
    "import json\n",
    "token = {\n",
    "    \"username\": \"auvzhcet\",\n",
    "    \"key\": \"3d59cbe6e491d2904ce4e1b0766d65d4\"\n",
    "}\n",
    "\n",
    "with open('/root/.kaggle/kaggle.json', 'w') as config_file:\n",
    "    json.dump(token, config_file)\n",
    "!chmod 600 /root/.kaggle/kaggle.json\n",
    "\n",
    "!kaggle datasets download -d tolgadincer/labeled-chest-xray-images"
   ]
  },
  {
   "cell_type": "code",
   "execution_count": null,
   "metadata": {
    "id": "9IPoYOBtwE-9"
   },
   "outputs": [],
   "source": [
    "import zipfile\n",
    "zipref=zipfile.ZipFile(\"/content/labeled-chest-xray-images.zip\",'r')\n",
    "zipref.extractall()\n",
    "zipref.close()"
   ]
  },
  {
   "cell_type": "code",
   "execution_count": null,
   "metadata": {
    "id": "2c09XHRAwFDh"
   },
   "outputs": [],
   "source": []
  },
  {
   "cell_type": "code",
   "execution_count": null,
   "metadata": {
    "id": "wAhZIej-wFMH"
   },
   "outputs": [],
   "source": []
  },
  {
   "cell_type": "code",
   "execution_count": null,
   "metadata": {
    "id": "2-kRANz9k8zp"
   },
   "outputs": [],
   "source": []
  },
  {
   "cell_type": "code",
   "execution_count": null,
   "metadata": {
    "id": "_v9AjKqiIN6V"
   },
   "outputs": [],
   "source": [
    "import matplotlib.pyplot as plt\n",
    "from matplotlib.pyplot import imshow\n",
    "\n",
    "fpath=r'/content/chest_xray/train/NORMAL/NORMAL-1014768-0001.jpeg'\n",
    "img=plt.imread(fpath)\n",
    "print (img.shape)\n",
    "imshow(img)"
   ]
  },
  {
   "cell_type": "code",
   "execution_count": null,
   "metadata": {
    "id": "piH246QDevA9"
   },
   "outputs": [],
   "source": [
    "import matplotlib.pyplot as plt\n",
    "import matplotlib.image as mpimg\n",
    "import random\n",
    "\n",
    "def view_random_image(target_dir , target_class):\n",
    "\n",
    "  target_folder = target_dir + target_class\n",
    "  random_image = random.sample(os.listdir(target_folder) , 1)\n",
    "  print(random_image)\n",
    "\n",
    "  img = mpimg.imread(target_folder + \"/\" + random_image[0])\n",
    "  plt.imshow(img)\n",
    "  plt.title(target_class)\n",
    "  plt.axis(\"off\");\n",
    "  print(f\"image shape : {img.shape}\")\n",
    "\n",
    "  return img"
   ]
  },
  {
   "cell_type": "code",
   "execution_count": null,
   "metadata": {
    "id": "Pal2R6eaevKo"
   },
   "outputs": [],
   "source": [
    "img = view_random_image(target_dir = train_dir ,\n",
    "                        target_class = \"NORMAL\")"
   ]
  },
  {
   "cell_type": "code",
   "execution_count": null,
   "metadata": {
    "id": "VgirxGZtevSi"
   },
   "outputs": [],
   "source": [
    "img = view_random_image(target_dir = train_dir ,\n",
    "                        target_class = \"PNEUMONIA\")"
   ]
  },
  {
   "cell_type": "code",
   "execution_count": null,
   "metadata": {
    "id": "qE8hWVwFwFP0"
   },
   "outputs": [],
   "source": []
  },
  {
   "cell_type": "code",
   "execution_count": null,
   "metadata": {
    "id": "MVH9h0o0wFTp"
   },
   "outputs": [],
   "source": []
  },
  {
   "cell_type": "code",
   "execution_count": null,
   "metadata": {
    "id": "ugF0lQ5PnzZe"
   },
   "outputs": [],
   "source": []
  },
  {
   "cell_type": "code",
   "execution_count": null,
   "metadata": {
    "id": "EGJVcvU1nZ_D"
   },
   "outputs": [],
   "source": []
  },
  {
   "cell_type": "code",
   "execution_count": null,
   "metadata": {
    "id": "ItbfnUt6naDo"
   },
   "outputs": [],
   "source": [
    "# Get data batch samples\n",
    "images, labels = train_data.next()\n",
    "augmented_images, augmented_labels = train_data_augmented.next() # Note: labels aren't augmented, they stay the same"
   ]
  },
  {
   "cell_type": "code",
   "execution_count": null,
   "metadata": {
    "id": "H310PZ4yngWT"
   },
   "outputs": [],
   "source": [
    "# Show original image and augmented image\n",
    "import random\n",
    "import matplotlib.pyplot as plt\n",
    "\n",
    "random_number = random.randint(0, 32) # we're making batches of size 32, so we'll get a random instance\n",
    "plt.imshow(images[random_number])\n",
    "plt.title(f\"Original image\")\n",
    "plt.axis(False)\n",
    "plt.figure()\n",
    "plt.imshow(augmented_images[random_number])\n",
    "plt.title(f\"Augmented image\")\n",
    "plt.axis(False);"
   ]
  },
  {
   "cell_type": "code",
   "execution_count": null,
   "metadata": {
    "id": "9HwsCP_6ngd0"
   },
   "outputs": [],
   "source": []
  },
  {
   "cell_type": "code",
   "execution_count": null,
   "metadata": {
    "id": "8oN4JQ9rfLdp"
   },
   "outputs": [],
   "source": []
  },
  {
   "cell_type": "code",
   "execution_count": null,
   "metadata": {
    "id": "qLpl-B-yw18i"
   },
   "outputs": [],
   "source": []
  },
  {
   "cell_type": "code",
   "execution_count": null,
   "metadata": {
    "id": "xhbYV1QcpcCU"
   },
   "outputs": [],
   "source": [
    "# Plot the validation and training data separately\n",
    "def plot_loss_curves(history):\n",
    "  \"\"\"\n",
    "  Returns separate loss curves for training and validation metrics.\n",
    "  \"\"\"\n",
    "  loss = history.history['loss']\n",
    "  val_loss = history.history['val_loss']\n",
    "\n",
    "  accuracy = history.history['accuracy']\n",
    "  val_accuracy = history.history['val_accuracy']\n",
    "\n",
    "  epochs = range(len(history.history['loss']))\n",
    "\n",
    "  # Plot loss\n",
    "  plt.plot(epochs, loss, label='training_loss')\n",
    "  plt.plot(epochs, val_loss, label='val_loss')\n",
    "  plt.title('Loss')\n",
    "  plt.xlabel('Epochs')\n",
    "  plt.legend()\n",
    "\n",
    "  # Plot accuracy\n",
    "  plt.figure()\n",
    "  plt.plot(epochs, accuracy, label='training_accuracy')\n",
    "  plt.plot(epochs, val_accuracy, label='val_accuracy')\n",
    "  plt.title('Accuracy')\n",
    "  plt.xlabel('Epochs')\n",
    "  plt.legend();"
   ]
  },
  {
   "cell_type": "code",
   "execution_count": null,
   "metadata": {
    "id": "lwgRVgJongl0"
   },
   "outputs": [],
   "source": []
  },
  {
   "cell_type": "code",
   "execution_count": null,
   "metadata": {
    "id": "2SjG4YZOmFo_"
   },
   "outputs": [],
   "source": [
    "def load_prep(filename,img_shape=180):\n",
    "\n",
    "    img=tf.io.read_file(filename)\n",
    "    img=tf.image.decode_image(img,channels=3)\n",
    "    img=tf.image.resize(img,size=[img_shape,img_shape])\n",
    "\n",
    "    img=img/255.\n",
    "    return img\n",
    "\n",
    "def pred_and_plot(model, filename, class_names):\n",
    "  import numpy as np\n",
    "  img = load_prep(filename)\n",
    "  pred = model.predict(tf.expand_dims(img, axis=0))\n",
    "  result=pred.argmax()\n",
    "  pred_class = class_names[result]\n",
    "\n",
    "  plt.imshow(img)\n",
    "  plt.title(f\"Prediction: {pred_class}\")\n",
    "  plt.axis(False);"
   ]
  },
  {
   "cell_type": "code",
   "execution_count": null,
   "metadata": {
    "id": "UyJZ3UwEmF3E"
   },
   "outputs": [],
   "source": [
    "!wget https://raw.githubusercontent.com/Zahid8/MLOps-for-Good-Hackathon/main/COVID-1061.png\n",
    "!wget https://raw.githubusercontent.com/Zahid8/MLOps-for-Good-Hackathon/main/COVID-1140.png\n",
    "!wget https://raw.githubusercontent.com/Zahid8/MLOps-for-Good-Hackathon/main/COVID-1680.png\n",
    "!wget https://raw.githubusercontent.com/Zahid8/MLOps-for-Good-Hackathon/main/Normal-100.png\n",
    "!wget https://raw.githubusercontent.com/Zahid8/MLOps-for-Good-Hackathon/main/Normal-1004.png\n",
    "!wget https://raw.githubusercontent.com/Zahid8/MLOps-for-Good-Hackathon/main/Normal-5267.png\n",
    "!wget https://raw.githubusercontent.com/Zahid8/MLOps-for-Good-Hackathon/main/Normal-524.png\n",
    "!wget https://raw.githubusercontent.com/Zahid8/MLOps-for-Good-Hackathon/main/Viral%20Pneumonia-1095.png\n",
    "!wget https://raw.githubusercontent.com/Zahid8/MLOps-for-Good-Hackathon/main/Viral%20Pneumonia-1120.png\n",
    "!wget https://raw.githubusercontent.com/Zahid8/MLOps-for-Good-Hackathon/main/Viral%20Pneumonia-1148.png"
   ]
  },
  {
   "cell_type": "code",
   "execution_count": null,
   "metadata": {
    "id": "0rEeXuZZmF9y"
   },
   "outputs": [],
   "source": [
    "pred_and_plot(model3, \"COVID-1061.png\", class_names)"
   ]
  },
  {
   "cell_type": "code",
   "execution_count": null,
   "metadata": {
    "id": "Y0tBPmTTOrN2"
   },
   "outputs": [],
   "source": [
    "pred_and_plot(model3, \"COVID-1140.png\", class_names)"
   ]
  },
  {
   "cell_type": "code",
   "execution_count": null,
   "metadata": {
    "id": "UMym-jGOOrZa"
   },
   "outputs": [],
   "source": [
    "pred_and_plot(model3, \"COVID-1680.png\", class_names)"
   ]
  },
  {
   "cell_type": "code",
   "execution_count": null,
   "metadata": {
    "id": "A4yR72EJOrms"
   },
   "outputs": [],
   "source": [
    "pred_and_plot(model3, \"Normal-100.png\", class_names)"
   ]
  },
  {
   "cell_type": "code",
   "execution_count": null,
   "metadata": {
    "id": "6bCHuvFIOrwY"
   },
   "outputs": [],
   "source": [
    "pred_and_plot(model3, \"Normal-1004.png\", class_names)"
   ]
  },
  {
   "cell_type": "code",
   "execution_count": null,
   "metadata": {
    "id": "8bOBjagtOr7G"
   },
   "outputs": [],
   "source": [
    "pred_and_plot(model3,\"Normal-5267.png.1\", class_names)"
   ]
  },
  {
   "cell_type": "code",
   "execution_count": null,
   "metadata": {
    "id": "Ggp9YglMOsGT"
   },
   "outputs": [],
   "source": [
    "pred_and_plot(model3,\"Normal-524.png\", class_names)"
   ]
  },
  {
   "cell_type": "code",
   "execution_count": null,
   "metadata": {
    "id": "RyBORjiROsRE"
   },
   "outputs": [],
   "source": [
    "pred_and_plot(model3, \"Viral Pneumonia-1095.png\", class_names)"
   ]
  },
  {
   "cell_type": "code",
   "execution_count": null,
   "metadata": {
    "id": "VbWSCBttOsaX"
   },
   "outputs": [],
   "source": [
    "pred_and_plot(model3, \"Viral Pneumonia-1120.png\", class_names)"
   ]
  },
  {
   "cell_type": "code",
   "execution_count": null,
   "metadata": {
    "id": "4-ETb_JuOu9v"
   },
   "outputs": [],
   "source": [
    "pred_and_plot(model3, \"Viral Pneumonia-1148.png\", class_names)"
   ]
  },
  {
   "cell_type": "code",
   "execution_count": null,
   "metadata": {
    "id": "2OF6118ROvS3"
   },
   "outputs": [],
   "source": []
  },
  {
   "cell_type": "code",
   "execution_count": null,
   "metadata": {
    "id": "Bq5-kliZOvc3"
   },
   "outputs": [],
   "source": []
  }
 ],
 "metadata": {
  "accelerator": "GPU",
  "colab": {
   "provenance": []
  },
  "kernelspec": {
   "display_name": "Python 3",
   "name": "python3"
  },
  "language_info": {
   "codemirror_mode": {
    "name": "ipython",
    "version": 3
   },
   "file_extension": ".py",
   "mimetype": "text/x-python",
   "name": "python",
   "nbconvert_exporter": "python",
   "pygments_lexer": "ipython3",
   "version": "3.12.7"
  }
 },
 "nbformat": 4,
 "nbformat_minor": 0
}
