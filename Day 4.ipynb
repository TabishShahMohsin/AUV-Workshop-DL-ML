{
 "cells": [
  {
   "cell_type": "code",
   "execution_count": null,
   "metadata": {
    "colab": {
     "base_uri": "https://localhost:8080/"
    },
    "id": "j6F1H7EXvxS8",
    "outputId": "5575db14-d148-4914-b41e-9976fb5da396"
   },
   "outputs": [],
   "source": [
    "#!pip install --upgrade -q kaggle\n",
    "\n",
    "#!mkdir /root/.kaggle\n",
    "import json\n",
    "token = {\n",
    "    \"username\": \"auvzhcet\",\n",
    "    \"key\": \"3d59cbe6e491d2904ce4e1b0766d65d4\"\n",
    "}\n",
    "\n",
    "with open('/root/.kaggle/kaggle.json', 'w') as config_file:\n",
    "    json.dump(token, config_file)\n",
    "#!chmod 600 /root/.kaggle/kaggle.json\n",
    "\n",
    "#!kaggle datasets download -d tolgadincer/labeled-chest-xray-images"
   ]
  },
  {
   "cell_type": "code",
   "execution_count": null,
   "metadata": {
    "id": "9IPoYOBtwE-9"
   },
   "outputs": [],
   "source": [
    "import zipfile\n",
    "zipref=zipfile.ZipFile(\"/content/labeled-chest-xray-images.zip\",'r')\n",
    "zipref.extractall()\n",
    "zipref.close()"
   ]
  },
  {
   "cell_type": "code",
   "execution_count": null,
   "metadata": {
    "id": "2c09XHRAwFDh"
   },
   "outputs": [],
   "source": [
    "train_dir=\"/content/chest_xray/train/\"\n",
    "test_dir=\"/content/chest_xray/test/\""
   ]
  },
  {
   "cell_type": "code",
   "execution_count": null,
   "metadata": {
    "id": "wAhZIej-wFMH"
   },
   "outputs": [],
   "source": [
    "# /content/chest_xray/test/NORMAL"
   ]
  },
  {
   "cell_type": "code",
   "execution_count": null,
   "metadata": {
    "id": "2-kRANz9k8zp"
   },
   "outputs": [],
   "source": []
  },
  {
   "cell_type": "code",
   "execution_count": null,
   "metadata": {
    "colab": {
     "base_uri": "https://localhost:8080/",
     "height": 427
    },
    "id": "_v9AjKqiIN6V",
    "outputId": "e548c183-5a56-4393-c22a-a1ce5d256481"
   },
   "outputs": [],
   "source": [
    "import matplotlib.pyplot as plt\n",
    "from matplotlib.pyplot import imshow\n",
    "\n",
    "fpath=r'/content/chest_xray/train/PNEUMONIA/BACTERIA-1027194-0001.jpeg'\n",
    "img=plt.imread(fpath)\n",
    "print (img.shape)\n",
    "imshow(img)"
   ]
  },
  {
   "cell_type": "code",
   "execution_count": null,
   "metadata": {
    "id": "piH246QDevA9"
   },
   "outputs": [],
   "source": [
    "import matplotlib.pyplot as plt\n",
    "import matplotlib.image as mpimg\n",
    "import random\n",
    "import os\n",
    "def view_random_image(target_dir , target_class):\n",
    "\n",
    "  target_folder = target_dir + target_class\n",
    "  random_image = random.sample(os.listdir(target_folder) , 1)\n",
    "  print(random_image)\n",
    "\n",
    "  img = mpimg.imread(target_folder + \"/\" + random_image[0])\n",
    "  plt.imshow(img)\n",
    "  plt.title(target_class)\n",
    "  plt.axis(\"off\");\n",
    "  print(f\"image shape : {img.shape}\")\n",
    "\n",
    "  return img"
   ]
  },
  {
   "cell_type": "code",
   "execution_count": null,
   "metadata": {
    "colab": {
     "base_uri": "https://localhost:8080/",
     "height": 463
    },
    "id": "Pal2R6eaevKo",
    "outputId": "b78a2908-a0d5-407b-97c3-886a2030b088"
   },
   "outputs": [],
   "source": [
    "img = view_random_image(target_dir = train_dir ,\n",
    "                        target_class = \"NORMAL\")"
   ]
  },
  {
   "cell_type": "code",
   "execution_count": null,
   "metadata": {
    "colab": {
     "base_uri": "https://localhost:8080/",
     "height": 463
    },
    "id": "VgirxGZtevSi",
    "outputId": "123ef1d2-d20b-4a76-97d4-f9f40eba9e11"
   },
   "outputs": [],
   "source": [
    "img = view_random_image(target_dir = train_dir ,\n",
    "                        target_class = \"PNEUMONIA\")"
   ]
  },
  {
   "cell_type": "code",
   "execution_count": null,
   "metadata": {
    "id": "F9MOR6xYUMQ7"
   },
   "outputs": [],
   "source": [
    "# 167/255 = -- 0 to 1 range ... 0 to 255\n",
    "\n",
    "# 200x200 --- 100 x 100 ----121 x 200 ---> 60 x 50 --> 120x 100\n",
    "# 0.45 0.5> ---> 0\n",
    "#  annotation ---> labeling\n",
    "#  aurgumentaion --> data set size inc --> diversity increase\n",
    "# data loading --> preporocessing / normalization + rshaping+ noise ---> model training---> post processing --> reults"
   ]
  },
  {
   "cell_type": "code",
   "execution_count": null,
   "metadata": {
    "colab": {
     "base_uri": "https://localhost:8080/"
    },
    "id": "qE8hWVwFwFP0",
    "outputId": "a9a3cba1-a0eb-4722-d6f3-0a7eb3c59d1c"
   },
   "outputs": [],
   "source": [
    "import tensorflow as tf\n",
    "from tensorflow.keras.preprocessing.image import ImageDataGenerator\n",
    "train_datagen= ImageDataGenerator(rescale = 1/255.)\n",
    "test_datagen= ImageDataGenerator(rescale = 1/255.)\n",
    "\n",
    "train_data = train_datagen.flow_from_directory(train_dir,\n",
    "                                               target_size = (320,320),\n",
    "                                               batch_size = 32,\n",
    "                                               class_mode = \"binary\",)\n",
    "test_data = test_datagen.flow_from_directory(test_dir,\n",
    "                                               target_size = (320,320),\n",
    "                                               batch_size = 32,\n",
    "                                               class_mode = \"binary\",)"
   ]
  },
  {
   "cell_type": "code",
   "execution_count": null,
   "metadata": {
    "colab": {
     "base_uri": "https://localhost:8080/",
     "height": 750
    },
    "id": "MVH9h0o0wFTp",
    "outputId": "e12e59b2-4b41-435a-e05a-e5110931d463"
   },
   "outputs": [],
   "source": [
    "model_xray_1 = tf.keras.Sequential([\n",
    "    tf.keras.layers.Conv2D(10,3,activation='relu',input_shape=(320,320,3)),\n",
    "    tf.keras.layers.MaxPool2D(pool_size = 2,padding=\"valid\"),\n",
    "    tf.keras.layers.Conv2D(10,3,activation='relu'),\n",
    "    tf.keras.layers.MaxPool2D(pool_size = 2,padding=\"valid\"),\n",
    "    tf.keras.layers.Flatten(),\n",
    "    tf.keras.layers.Dense(1,activation='sigmoid')\n",
    "])\n",
    "\n",
    "\n",
    "model_xray_1.compile(loss=\"binary_crossentropy\",\n",
    "              optimizer=tf.keras.optimizers.Adam(),\n",
    "              metrics=[\"accuracy\"])\n",
    "\n",
    "model_xray_1.summary()\n",
    "history_xray_1 = model_xray_1.fit(train_data, epochs=5) # calbacks == save best model 21 st ... last model --- 25th"
   ]
  },
  {
   "cell_type": "code",
   "execution_count": null,
   "metadata": {
    "id": "ugF0lQ5PnzZe"
   },
   "outputs": [],
   "source": [
    "model_xray_1 = tf.keras.Sequential([\n",
    "    tf.keras.layers.Conv2D(10,3,activation='relu',input_shape=(320,320,3)),\n",
    "    tf.keras.layers.MaxPool2D(pool_size = 2,padding=\"valid\"),\n",
    "    tf.keras.layers.Conv2D(10,3,activation='relu'),\n",
    "    tf.keras.layers.MaxPool2D(pool_size = 2,padding=\"valid\"),\n",
    "    tf.keras.layers.Dropout(0.5),\n",
    "    tf.keras.layers.Flatten(),\n",
    "    tf.keras.layers.Dense(1,activation='sigmoid')\n",
    "])\n",
    "\n",
    "\n",
    "model_xray_1.compile(loss=\"binary_crossentropy\",\n",
    "              optimizer=tf.keras.optimizers.Adam(),\n",
    "              metrics=[\"accuracy\"])\n",
    "\n",
    "model_xray_1.summary()\n",
    "history_xray_1 = model_xray_1.fit(train_data, epochs=5)\n",
    "# calbacks == save best model 21 st ... last model --- 25th\n",
    "# state of the art model SOTA model --> VGG , RESNET , Densenet --- Transformers\n",
    "# alexnet,"
   ]
  },
  {
   "cell_type": "code",
   "execution_count": null,
   "metadata": {
    "id": "EGJVcvU1nZ_D"
   },
   "outputs": [],
   "source": [
    "# aurgrumentation\n",
    "# anaotation"
   ]
  },
  {
   "cell_type": "code",
   "execution_count": null,
   "metadata": {
    "id": "H310PZ4yngWT"
   },
   "outputs": [],
   "source": [
    "# # Show original image and augmented image\n",
    "# import random\n",
    "# import matplotlib.pyplot as plt\n",
    "\n",
    "# random_number = random.randint(0, 32) # we're making batches of size 32, so we'll get a random instance\n",
    "# plt.imshow(images[random_number])\n",
    "# plt.title(f\"Original image\")\n",
    "# plt.axis(False)\n",
    "# plt.figure()\n",
    "# plt.imshow(augmented_images[random_number])\n",
    "# plt.title(f\"Augmented image\")\n",
    "# plt.axis(False);"
   ]
  },
  {
   "cell_type": "code",
   "execution_count": null,
   "metadata": {
    "colab": {
     "base_uri": "https://localhost:8080/"
    },
    "id": "9HwsCP_6ngd0",
    "outputId": "8e91f7a8-7c82-4874-be51-11e5ac80a133"
   },
   "outputs": [],
   "source": [
    "train_datagen_augmented = ImageDataGenerator(rescale = 1/255.,\n",
    "                                  rotation_range=0.2,\n",
    "                                  width_shift_range=0.2,\n",
    "                                  height_shift_range=0.2,\n",
    "                                  shear_range=0.2,\n",
    "                                  zoom_range=0.2,\n",
    "                                  horizontal_flip=True\n",
    "                                  )\n",
    "\n",
    "train_data_augmented= train_datagen_augmented.flow_from_directory(train_dir,\n",
    "                                               target_size = (320,320),\n",
    "                                               batch_size = 32,\n",
    "                                               class_mode = \"binary\",)\n",
    "\n",
    "test_data = test_datagen.flow_from_directory(test_dir,\n",
    "                                               target_size = (320,320),\n",
    "                                               batch_size = 32,\n",
    "                                               class_mode = \"binary\",)"
   ]
  },
  {
   "cell_type": "code",
   "execution_count": null,
   "metadata": {
    "id": "ItbfnUt6naDo"
   },
   "outputs": [],
   "source": [
    "# Get data batch samples\n",
    "# images, labels = train_data.next()\n",
    "augmented_images, augmented_labels = train_data_augmented.__next__() # Note: labels aren't augmented, they stay the same"
   ]
  },
  {
   "cell_type": "code",
   "execution_count": null,
   "metadata": {
    "colab": {
     "base_uri": "https://localhost:8080/"
    },
    "id": "Cr06fABTz0XJ",
    "outputId": "fff4e215-5155-42c9-ddea-65a804569a02"
   },
   "outputs": [],
   "source": [
    "augmented_images.shape"
   ]
  },
  {
   "cell_type": "code",
   "execution_count": null,
   "metadata": {
    "colab": {
     "base_uri": "https://localhost:8080/",
     "height": 428
    },
    "id": "8oN4JQ9rfLdp",
    "outputId": "b8b4a6bb-9616-4110-e073-e8217f9ba13d"
   },
   "outputs": [],
   "source": [
    "plt.imshow(augmented_images[7])\n",
    "plt.title(f\"Augmented image\")\n",
    "plt.axis(False);"
   ]
  },
  {
   "cell_type": "code",
   "execution_count": null,
   "metadata": {
    "colab": {
     "base_uri": "https://localhost:8080/",
     "height": 422
    },
    "id": "qLpl-B-yw18i",
    "outputId": "9f73cfde-907e-4262-aec3-216c701e3daa"
   },
   "outputs": [],
   "source": [
    "model_xray_1 = tf.keras.Sequential([\n",
    "    tf.keras.layers.Conv2D(10,3,activation='relu',input_shape=(320,320,3)),\n",
    "    tf.keras.layers.MaxPool2D(pool_size = 2,padding=\"valid\"),\n",
    "    tf.keras.layers.Conv2D(10,3,activation='relu'),\n",
    "    tf.keras.layers.MaxPool2D(pool_size = 2,padding=\"valid\"),\n",
    "    tf.keras.layers.Dropout(0.5),\n",
    "    tf.keras.layers.Flatten(),\n",
    "    tf.keras.layers.Dense(1,activation='sigmoid')\n",
    "])\n",
    "\n",
    "\n",
    "model_xray_1.compile(loss=\"binary_crossentropy\",\n",
    "              optimizer=tf.keras.optimizers.Adam(),\n",
    "              metrics=[\"accuracy\"])\n",
    "\n",
    "model_xray_1.summary()\n",
    "history_xray_1 = model_xray_1.fit(train_data_augmented, epochs=5)"
   ]
  },
  {
   "cell_type": "code",
   "execution_count": null,
   "metadata": {
    "id": "xhbYV1QcpcCU"
   },
   "outputs": [],
   "source": [
    "# Plot the validation and training data separately\n",
    "def plot_loss_curves(history):\n",
    "  \"\"\"\n",
    "  Returns separate loss curves for training and validation metrics.\n",
    "  \"\"\"\n",
    "  loss = history.history['loss']\n",
    "  # val_loss = history.history['val_loss']\n",
    "\n",
    "  accuracy = history.history['accuracy']\n",
    "  # val_accuracy = history.history['val_accuracy']\n",
    "\n",
    "  epochs = range(len(history.history['loss']))\n",
    "\n",
    "  # Plot loss\n",
    "  plt.plot(epochs, loss, label='training_loss')\n",
    "  # plt.plot(epochs, val_loss, label='val_loss')\n",
    "  plt.title('Loss')\n",
    "  plt.xlabel('Epochs')\n",
    "  plt.legend()\n",
    "\n",
    "  # Plot accuracy\n",
    "  plt.figure()\n",
    "  plt.plot(epochs, accuracy, label='training_accuracy')\n",
    "  # plt.plot(epochs, val_accuracy, label='val_accuracy')\n",
    "  plt.title('Accuracy')\n",
    "  plt.xlabel('Epochs')\n",
    "  plt.legend();"
   ]
  },
  {
   "cell_type": "code",
   "execution_count": null,
   "metadata": {
    "colab": {
     "base_uri": "https://localhost:8080/",
     "height": 141
    },
    "id": "lwgRVgJongl0",
    "outputId": "162a195d-071a-4792-d1bd-3f7ef555e540"
   },
   "outputs": [],
   "source": [
    "plot_loss_curves(history_xray_1)"
   ]
  },
  {
   "cell_type": "code",
   "execution_count": null,
   "metadata": {
    "id": "2SjG4YZOmFo_"
   },
   "outputs": [],
   "source": [
    "def load_prep(filename,img_shape=180):\n",
    "\n",
    "    img=tf.io.read_file(filename)\n",
    "    img=tf.image.decode_image(img,channels=3)\n",
    "    img=tf.image.resize(img,size=[img_shape,img_shape])\n",
    "\n",
    "    img=img/255.\n",
    "    return img\n",
    "\n",
    "def pred_and_plot(model, filename, class_names):\n",
    "  import numpy as np\n",
    "  img = load_prep(filename)\n",
    "  pred = model.predict(tf.expand_dims(img, axis=0))\n",
    "  result=pred.argmax()\n",
    "  pred_class = class_names[result]\n",
    "\n",
    "  plt.imshow(img)\n",
    "  plt.title(f\"Prediction: {pred_class}\")\n",
    "  plt.axis(False);"
   ]
  },
  {
   "cell_type": "code",
   "execution_count": null,
   "metadata": {
    "id": "0rEeXuZZmF9y"
   },
   "outputs": [],
   "source": [
    "pred_and_plot(model3, \"COVID-1061.png\", class_names)"
   ]
  },
  {
   "cell_type": "code",
   "execution_count": null,
   "metadata": {
    "id": "Y0tBPmTTOrN2"
   },
   "outputs": [],
   "source": [
    "pred_and_plot(model3, \"COVID-1140.png\", class_names)"
   ]
  },
  {
   "cell_type": "code",
   "execution_count": null,
   "metadata": {
    "id": "UMym-jGOOrZa"
   },
   "outputs": [],
   "source": [
    "pred_and_plot(model3, \"COVID-1680.png\", class_names)"
   ]
  },
  {
   "cell_type": "code",
   "execution_count": null,
   "metadata": {
    "id": "A4yR72EJOrms"
   },
   "outputs": [],
   "source": [
    "pred_and_plot(model3, \"Normal-100.png\", class_names)"
   ]
  },
  {
   "cell_type": "code",
   "execution_count": null,
   "metadata": {
    "id": "6bCHuvFIOrwY"
   },
   "outputs": [],
   "source": [
    "pred_and_plot(model3, \"Normal-1004.png\", class_names)"
   ]
  },
  {
   "cell_type": "code",
   "execution_count": null,
   "metadata": {
    "id": "8bOBjagtOr7G"
   },
   "outputs": [],
   "source": [
    "pred_and_plot(model3,\"Normal-5267.png.1\", class_names)"
   ]
  },
  {
   "cell_type": "code",
   "execution_count": null,
   "metadata": {
    "id": "Ggp9YglMOsGT"
   },
   "outputs": [],
   "source": [
    "pred_and_plot(model3,\"Normal-524.png\", class_names)"
   ]
  },
  {
   "cell_type": "code",
   "execution_count": null,
   "metadata": {
    "id": "RyBORjiROsRE"
   },
   "outputs": [],
   "source": [
    "pred_and_plot(model3, \"Viral Pneumonia-1095.png\", class_names)"
   ]
  },
  {
   "cell_type": "code",
   "execution_count": null,
   "metadata": {
    "id": "VbWSCBttOsaX"
   },
   "outputs": [],
   "source": [
    "pred_and_plot(model3, \"Viral Pneumonia-1120.png\", class_names)"
   ]
  },
  {
   "cell_type": "code",
   "execution_count": null,
   "metadata": {
    "id": "4-ETb_JuOu9v"
   },
   "outputs": [],
   "source": [
    "pred_and_plot(model3, \"Viral Pneumonia-1148.png\", class_names)"
   ]
  },
  {
   "cell_type": "code",
   "execution_count": null,
   "metadata": {
    "id": "2OF6118ROvS3"
   },
   "outputs": [],
   "source": []
  },
  {
   "cell_type": "code",
   "execution_count": null,
   "metadata": {
    "id": "Bq5-kliZOvc3"
   },
   "outputs": [],
   "source": []
  }
 ],
 "metadata": {
  "accelerator": "GPU",
  "colab": {
   "provenance": []
  },
  "kernelspec": {
   "display_name": "Python 3",
   "name": "python3"
  },
  "language_info": {
   "codemirror_mode": {
    "name": "ipython",
    "version": 3
   },
   "file_extension": ".py",
   "mimetype": "text/x-python",
   "name": "python",
   "nbconvert_exporter": "python",
   "pygments_lexer": "ipython3",
   "version": "3.9.20"
  }
 },
 "nbformat": 4,
 "nbformat_minor": 0
}
